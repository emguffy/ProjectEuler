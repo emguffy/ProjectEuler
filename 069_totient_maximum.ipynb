{
 "cells": [
  {
   "cell_type": "markdown",
   "metadata": {},
   "source": [
    "General process of brute force attempt:\n",
    "iterate n from 2 to 1M\n",
    "for each value of n, compare the value of n/phi(n) to the current maximum (initialize at 1.0)\n",
    "\n",
    "need a function for phi(n)\n",
    "will use a isPrime() function"
   ]
  },
  {
   "cell_type": "code",
   "execution_count": 6,
   "metadata": {},
   "outputs": [],
   "source": [
    "def is_prime(number):\n",
    "\tif number < 2:\n",
    "\t\treturn False\n",
    "\t\n",
    "\tif number == 2 or number == 3:\n",
    "\t\treturn True\n",
    "\t\n",
    "\tif number % 2 == 0:\n",
    "\t\treturn False\n",
    "\t\n",
    "\tfor factor in range(3, int(number**0.5) + 1,2):\n",
    "\t\tif number % factor == 0:\n",
    "\t\t\treturn False\n",
    "\t\t\n",
    "\treturn True\n",
    "\t\n",
    "\t\n",
    "def find_next_prime(candidate):\n",
    "\twhile True:\n",
    "\t\tif is_prime(candidate) == True:\n",
    "\t\t\tyield candidate\n",
    "\t\t\tcandidate += 1\n",
    "\t\telse:\n",
    "\t\t\tcandidate += 1\n",
    "            "
   ]
  },
  {
   "cell_type": "code",
   "execution_count": 7,
   "metadata": {},
   "outputs": [],
   "source": [
    "def isRelativePrime(n,i):\n",
    "\tfor f in range(2,i+1):\t\n",
    "\t\t#print('f: ',f)\n",
    "\t\tif i%f == 0 and n%f == 0:\n",
    "\t\t\treturn False\n",
    "\t\t\n",
    "\treturn True"
   ]
  },
  {
   "cell_type": "code",
   "execution_count": 8,
   "metadata": {},
   "outputs": [
    {
     "data": {
      "text/plain": [
       "True"
      ]
     },
     "execution_count": 8,
     "metadata": {},
     "output_type": "execute_result"
    }
   ],
   "source": [
    "isRelativePrime(6,5)"
   ]
  },
  {
   "cell_type": "code",
   "execution_count": 9,
   "metadata": {},
   "outputs": [],
   "source": [
    "def phi(n):\n",
    "\tcount = 1\n",
    "\t#print('count :',count)\n",
    "\tfor k in range(2,n):\n",
    "\t\t#print('k: ',k)\n",
    "\t\tif isRelativePrime(n,k) == True:\n",
    "\t\t\tcount += 1\n",
    "\t\t\t#print('count :',count)\n",
    "\t\t\n",
    "\treturn count"
   ]
  },
  {
   "cell_type": "code",
   "execution_count": 10,
   "metadata": {},
   "outputs": [
    {
     "data": {
      "text/plain": [
       "2"
      ]
     },
     "execution_count": 10,
     "metadata": {},
     "output_type": "execute_result"
    }
   ],
   "source": [
    "phi(6)"
   ]
  },
  {
   "cell_type": "code",
   "execution_count": 11,
   "metadata": {},
   "outputs": [],
   "source": [
    "def phiQuotient(n):\n",
    "\treturn n/phi(n)"
   ]
  },
  {
   "cell_type": "code",
   "execution_count": 13,
   "metadata": {},
   "outputs": [
    {
     "data": {
      "text/plain": [
       "2.0"
      ]
     },
     "execution_count": 13,
     "metadata": {},
     "output_type": "execute_result"
    }
   ],
   "source": [
    "phiQuotient(2)"
   ]
  },
  {
   "cell_type": "code",
   "execution_count": 23,
   "metadata": {},
   "outputs": [
    {
     "data": {
      "text/plain": [
       "3.0"
      ]
     },
     "execution_count": 23,
     "metadata": {},
     "output_type": "execute_result"
    }
   ],
   "source": [
    "phiQuotient(6)"
   ]
  },
  {
   "cell_type": "code",
   "execution_count": 24,
   "metadata": {},
   "outputs": [],
   "source": [
    "def maxPhiN(m):\t\n",
    "\tmaxPhiQuotient = 1\t\t\t\n",
    "\tmaxPhiN = 2\n",
    "\n",
    "\tfor n in range(2,m):\n",
    "\t\tif phiQuotient(n) > maxPhiQuotient:\n",
    "\t\t\t\tprint('n: ',n,'  phiQuotient: ',phiQuotient(n))\n",
    "\t\t\t\tmaxPhiQuotient = phiQuotient(n)\n",
    "\t\t\t\tmaxPhiN = n\n",
    "\t\t\t\n",
    "\treturn maxPhiN"
   ]
  },
  {
   "cell_type": "code",
   "execution_count": 25,
   "metadata": {},
   "outputs": [
    {
     "name": "stdout",
     "output_type": "stream",
     "text": [
      "n:  2   phiQuotient:  2.0\n",
      "n:  6   phiQuotient:  3.0\n",
      "n:  30   phiQuotient:  3.75\n"
     ]
    },
    {
     "data": {
      "text/plain": [
       "30"
      ]
     },
     "execution_count": 25,
     "metadata": {},
     "output_type": "execute_result"
    }
   ],
   "source": [
    "maxPhiN(100)"
   ]
  },
  {
   "cell_type": "markdown",
   "metadata": {},
   "source": [
    "After building brute force functions, intuitively saw a pattern with the maximum phi values as m grew.  These were mutiples of successive primes (i.e. 2,3,5,7,13,17,19).  By the time I multiplied by 17, I had the answer, without having to brute force the solution (which is still running for m=10000 as I'm typing this...)"
   ]
  }
 ],
 "metadata": {
  "kernelspec": {
   "display_name": "Python 3",
   "language": "python",
   "name": "python3"
  },
  "language_info": {
   "codemirror_mode": {
    "name": "ipython",
    "version": 3
   },
   "file_extension": ".py",
   "mimetype": "text/x-python",
   "name": "python",
   "nbconvert_exporter": "python",
   "pygments_lexer": "ipython3",
   "version": "3.6.4"
  }
 },
 "nbformat": 4,
 "nbformat_minor": 2
}
